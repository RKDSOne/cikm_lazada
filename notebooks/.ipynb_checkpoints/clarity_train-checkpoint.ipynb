{
 "cells": [
  {
   "cell_type": "code",
   "execution_count": 1,
   "metadata": {
    "collapsed": false
   },
   "outputs": [],
   "source": [
    "import os\n",
    "import sys\n",
    "\n",
    "# add the 'src' directory as one where we can import modules\n",
    "# os.pardir refers to parent directory. \n",
    "# src_dir = os.path.join(os.getcwd(), '../src') => works the same\n",
    "src_dir = os.path.join(os.getcwd(), os.pardir, 'src')\n",
    "sys.path.append(src_dir)\n",
    "\n",
    "# Load the \"autoreload\" extension\n",
    "%load_ext autoreload\n",
    "# always reload modules marked with \"%aimport\"\n",
    "%autoreload 2"
   ]
  },
  {
   "cell_type": "code",
   "execution_count": 2,
   "metadata": {
    "collapsed": false
   },
   "outputs": [
    {
     "name": "stdout",
     "output_type": "stream",
     "text": [
      "(2, 2)\n",
      "[2 4]\n"
     ]
    }
   ],
   "source": [
    "import numpy as np\n",
    "array = np.asarray([[1,2],[3,4]])\n",
    "print (array.shape)\n",
    "print (array[:,1])"
   ]
  },
  {
   "cell_type": "code",
   "execution_count": 3,
   "metadata": {
    "collapsed": true
   },
   "outputs": [],
   "source": [
    "from bs4 import BeautifulSoup"
   ]
  },
  {
   "cell_type": "markdown",
   "metadata": {},
   "source": [
    "# 2. Data exploration - Understand each column by recording observations and characteristics of each column."
   ]
  },
  {
   "cell_type": "code",
   "execution_count": 6,
   "metadata": {
    "collapsed": true
   },
   "outputs": [],
   "source": [
    "import pandas as pd\n",
    "import matplotlib as plot"
   ]
  },
  {
   "cell_type": "code",
   "execution_count": 42,
   "metadata": {
    "collapsed": true
   },
   "outputs": [],
   "source": [
    "import gzip\n",
    "\n",
    "\n",
    "# takes in csv and return data in list of list\n",
    "def read_data(file_dir):\n",
    "    data = []\n",
    "    with gzip.open(file_dir, 'rb') as f:\n",
    "        for line in f:\n",
    "            data.append(line.decode('utf-8').split(','))\n",
    "    f.close()\n",
    "    return data"
   ]
  },
  {
   "cell_type": "code",
   "execution_count": 43,
   "metadata": {
    "collapsed": false
   },
   "outputs": [
    {
     "name": "stdout",
     "output_type": "stream",
     "text": [
      "36283\n"
     ]
    }
   ],
   "source": [
    "data = read_data('../data/train/data_train.csv.gz')\n",
    "print (len(data))"
   ]
  },
  {
   "cell_type": "code",
   "execution_count": 44,
   "metadata": {
    "collapsed": false
   },
   "outputs": [
    {
     "data": {
      "text/plain": [
       "(36283, 9)"
      ]
     },
     "execution_count": 44,
     "metadata": {},
     "output_type": "execute_result"
    }
   ],
   "source": [
    "header = ['country','sku_id','title','category_lvl_1','category_lvl_2','category_lvl_3','short_description', 'price','product_type']\n",
    "df = No`ne\n",
    "with gzip.open('../data/train/data_train.csv.gz', 'r') as f:\n",
    "    df = pd.read_csv(f, encoding='utf8', names=header)\n",
    "df.shape"
   ]
  },
  {
   "cell_type": "code",
   "execution_count": null,
   "metadata": {
    "collapsed": false
   },
   "outputs": [],
   "source": []
  },
  {
   "cell_type": "code",
   "execution_count": null,
   "metadata": {
    "collapsed": true
   },
   "outputs": [],
   "source": []
  },
  {
   "cell_type": "markdown",
   "metadata": {},
   "source": [
    "# 3. Data cleansing - Can be done simultaneously with step one. Removing duplicates, incorrect data and interpolate blank fields when needed."
   ]
  },
  {
   "cell_type": "code",
   "execution_count": null,
   "metadata": {
    "collapsed": true
   },
   "outputs": [],
   "source": []
  },
  {
   "cell_type": "code",
   "execution_count": null,
   "metadata": {
    "collapsed": true
   },
   "outputs": [],
   "source": []
  },
  {
   "cell_type": "markdown",
   "metadata": {},
   "source": [
    "# 5. Modeling - Features engineering, model evaluation using gridsearch."
   ]
  },
  {
   "cell_type": "code",
   "execution_count": null,
   "metadata": {
    "collapsed": true
   },
   "outputs": [],
   "source": []
  },
  {
   "cell_type": "code",
   "execution_count": null,
   "metadata": {
    "collapsed": true
   },
   "outputs": [],
   "source": []
  },
  {
   "cell_type": "code",
   "execution_count": null,
   "metadata": {
    "collapsed": true
   },
   "outputs": [],
   "source": []
  },
  {
   "cell_type": "code",
   "execution_count": null,
   "metadata": {
    "collapsed": true
   },
   "outputs": [],
   "source": []
  },
  {
   "cell_type": "code",
   "execution_count": null,
   "metadata": {
    "collapsed": true
   },
   "outputs": [],
   "source": []
  },
  {
   "cell_type": "code",
   "execution_count": null,
   "metadata": {
    "collapsed": true
   },
   "outputs": [],
   "source": []
  },
  {
   "cell_type": "code",
   "execution_count": null,
   "metadata": {
    "collapsed": true
   },
   "outputs": [],
   "source": []
  },
  {
   "cell_type": "code",
   "execution_count": null,
   "metadata": {
    "collapsed": true
   },
   "outputs": [],
   "source": []
  },
  {
   "cell_type": "code",
   "execution_count": null,
   "metadata": {
    "collapsed": true
   },
   "outputs": [],
   "source": []
  },
  {
   "cell_type": "markdown",
   "metadata": {},
   "source": [
    "# Experiment 1 - Using description only"
   ]
  },
  {
   "cell_type": "code",
   "execution_count": 75,
   "metadata": {
    "collapsed": false
   },
   "outputs": [
    {
     "name": "stdout",
     "output_type": "stream",
     "text": [
      "x_train ../data/train/data_train.csv.gz\n",
      "y_train ../data/train/clarity_train.labels\n",
      "pp True\n",
      "model nb\n",
      "feat tf\n",
      "results ../results/clarity_1.txt\n"
     ]
    },
    {
     "name": "stderr",
     "output_type": "stream",
     "text": [
      "/Users/changsheng/anaconda/lib/python3.6/site-packages/bs4/__init__.py:219: UserWarning: \"b'.'\" looks like a filename, not markup. You shouldprobably open this file and pass the filehandle intoBeautiful Soup.\n",
      "  'Beautiful Soup.' % markup)\n"
     ]
    },
    {
     "name": "stdout",
     "output_type": "stream",
     "text": [
      "confusion matrix:\n",
      "\n",
      "[[ 104  471]\n",
      " [ 387 9923]]\n",
      "\n",
      "\n",
      "binary f1: 0.958558732612\n",
      "\n",
      "rmse: 0.2631\n",
      "\n"
     ]
    }
   ],
   "source": [
    "%run ../src/models/clarity_train.py --x_train ../data/train/data_train.csv.gz --y_train ../data/train/clarity_train.labels --pp True --model nb --feat tf --results ../results/clarity_1.txt\n",
    "\n"
   ]
  },
  {
   "cell_type": "code",
   "execution_count": 77,
   "metadata": {
    "collapsed": false
   },
   "outputs": [
    {
     "name": "stdout",
     "output_type": "stream",
     "text": [
      "x_train ../data/train/data_train.csv.gz\n",
      "y_train ../data/train/clarity_train.labels\n",
      "pp True\n",
      "model nb\n",
      "feat tf\n",
      "results ../results/clarity_1.txt\n"
     ]
    },
    {
     "name": "stderr",
     "output_type": "stream",
     "text": [
      "/Users/changsheng/anaconda/lib/python3.6/site-packages/bs4/__init__.py:219: UserWarning: \"b'.'\" looks like a filename, not markup. You shouldprobably open this file and pass the filehandle intoBeautiful Soup.\n",
      "  'Beautiful Soup.' % markup)\n"
     ]
    },
    {
     "name": "stdout",
     "output_type": "stream",
     "text": [
      "confusion matrix:\n",
      "\n",
      "[[ 107  512]\n",
      " [ 367 9899]]\n",
      "\n",
      "\n",
      "binary f1: 0.957488997437\n",
      "\n",
      "rmse: 0.2666\n",
      "\n"
     ]
    }
   ],
   "source": [
    "%run ../src/models/clarity_train.py --x_train ../data/train/data_train.csv.gz --y_train ../data/train/clarity_train.labels --pp True --model nb --feat tf --results ../results/clarity_1.txt\n",
    "\n",
    "\n"
   ]
  },
  {
   "cell_type": "markdown",
   "metadata": {},
   "source": [
    "# Experiment 2"
   ]
  },
  {
   "cell_type": "code",
   "execution_count": 81,
   "metadata": {
    "collapsed": false,
    "scrolled": true
   },
   "outputs": [
    {
     "name": "stdout",
     "output_type": "stream",
     "text": [
      "x_train ../data/train/data_train.csv.gz\n",
      "y_train ../data/train/clarity_train.labels\n",
      "pp True\n",
      "model nb\n",
      "feat tfidf\n",
      "results ../results/clarity_2.txt\n"
     ]
    },
    {
     "name": "stderr",
     "output_type": "stream",
     "text": [
      "/Users/changsheng/anaconda/lib/python3.6/site-packages/bs4/__init__.py:219: UserWarning: \"b'.'\" looks like a filename, not markup. You shouldprobably open this file and pass the filehandle intoBeautiful Soup.\n",
      "  'Beautiful Soup.' % markup)\n"
     ]
    },
    {
     "name": "stdout",
     "output_type": "stream",
     "text": [
      "confusion matrix:\n",
      "\n",
      "[[    1   609]\n",
      " [    3 10272]]\n",
      "\n",
      "\n",
      "binary f1: 0.971072036302\n",
      "\n",
      "rmse: 0.2332\n",
      "\n"
     ]
    }
   ],
   "source": [
    "%run ../src/models/clarity_train.py --x_train ../data/train/data_train.csv.gz --y_train ../data/train/clarity_train.labels --pp False --model nb --feat tfidf --results ../results/clarity_2.txt\n",
    "\n"
   ]
  },
  {
   "cell_type": "markdown",
   "metadata": {},
   "source": [
    "# Experiment 3"
   ]
  },
  {
   "cell_type": "code",
   "execution_count": 84,
   "metadata": {
    "collapsed": false
   },
   "outputs": [
    {
     "name": "stdout",
     "output_type": "stream",
     "text": [
      "x_train ../data/train/data_train.csv.gz\n",
      "y_train ../data/train/clarity_train.labels\n",
      "pp True\n",
      "model nb\n",
      "feat tfidf\n",
      "results ../results/clarity_3.txt\n"
     ]
    },
    {
     "name": "stderr",
     "output_type": "stream",
     "text": [
      "/Users/changsheng/anaconda/lib/python3.6/site-packages/bs4/__init__.py:219: UserWarning: \"b'.'\" looks like a filename, not markup. You shouldprobably open this file and pass the filehandle intoBeautiful Soup.\n",
      "  'Beautiful Soup.' % markup)\n",
      "/Users/changsheng/anaconda/lib/python3.6/site-packages/bs4/__init__.py:219: UserWarning: \"b'//'\" looks like a filename, not markup. You shouldprobably open this file and pass the filehandle intoBeautiful Soup.\n",
      "  'Beautiful Soup.' % markup)\n"
     ]
    },
    {
     "name": "stdout",
     "output_type": "stream",
     "text": [
      "confusion matrix:\n",
      "\n",
      "[[    3   602]\n",
      " [    4 10276]]\n",
      "\n",
      "\n",
      "binary f1: 0.971358351451\n",
      "\n",
      "rmse: 0.2316\n",
      "\n"
     ]
    }
   ],
   "source": [
    "%run ../src/models/clarity_train.py --x_train ../data/train/data_train.csv.gz --y_train ../data/train/clarity_train.labels --pp True --model nb --feat tfidf --results ../results/clarity_3.txt\n",
    "\n",
    "\n"
   ]
  },
  {
   "cell_type": "code",
   "execution_count": null,
   "metadata": {
    "collapsed": true
   },
   "outputs": [],
   "source": [
    "%run ../src/models/clarity_train.py --x_train ../data/train/data_train.csv.gz --y_train ../data/train/clarity_train.labels --pp True --model nb --feat tfidf --results ../results/clarity_4.txt\n"
   ]
  },
  {
   "cell_type": "markdown",
   "metadata": {},
   "source": [
    "# Experiment 4 - Using product title only"
   ]
  },
  {
   "cell_type": "code",
   "execution_count": null,
   "metadata": {
    "collapsed": true
   },
   "outputs": [],
   "source": [
    "%run ../src/models/clarity_train.py --x_train ../data/train/data_train.csv.gz --y_train ../data/train/clarity_train.labels --pp True --model nb --feat tf --results ../results/clarity_1.txt\n"
   ]
  },
  {
   "cell_type": "code",
   "execution_count": null,
   "metadata": {
    "collapsed": true
   },
   "outputs": [],
   "source": []
  },
  {
   "cell_type": "code",
   "execution_count": null,
   "metadata": {
    "collapsed": true
   },
   "outputs": [],
   "source": []
  }
 ],
 "metadata": {
  "kernelspec": {
   "display_name": "Python 3",
   "language": "python",
   "name": "python3"
  },
  "language_info": {
   "codemirror_mode": {
    "name": "ipython",
    "version": 3
   },
   "file_extension": ".py",
   "mimetype": "text/x-python",
   "name": "python",
   "nbconvert_exporter": "python",
   "pygments_lexer": "ipython3",
   "version": "3.6.1"
  }
 },
 "nbformat": 4,
 "nbformat_minor": 2
}
