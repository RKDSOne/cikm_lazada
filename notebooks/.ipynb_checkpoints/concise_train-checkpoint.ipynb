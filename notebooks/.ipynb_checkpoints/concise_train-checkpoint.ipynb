{
 "cells": [
  {
   "cell_type": "code",
   "execution_count": 1,
   "metadata": {
    "collapsed": true
   },
   "outputs": [],
   "source": [
    "import os\n",
    "import sys\n",
    "\n",
    "# add the 'src' directory as one where we can import modules\n",
    "# os.pardir refers to parent directory. \n",
    "# src_dir = os.path.join(os.getcwd(), '../src') => works the same\n",
    "src_dir = os.path.join(os.getcwd(), os.pardir, 'src')\n",
    "sys.path.append(src_dir)\n",
    "\n",
    "# Load the \"autoreload\" extension\n",
    "%load_ext autoreload\n",
    "# always reload modules marked with \"%aimport\"\n",
    "%autoreload 2"
   ]
  },
  {
   "cell_type": "markdown",
   "metadata": {},
   "source": [
    "# Experiment 1\n",
    "Using term frequency on product description with only removing html tags as preprocessing"
   ]
  },
  {
   "cell_type": "code",
   "execution_count": 19,
   "metadata": {
    "collapsed": false
   },
   "outputs": [
    {
     "name": "stdout",
     "output_type": "stream",
     "text": [
      "x_train ../data/train/data_train.csv.gz\n",
      "y_train ../data/train/conciseness_train.labels\n",
      "pp True\n",
      "model nb\n",
      "feat tf\n",
      "results ../results/concise_1.txt\n"
     ]
    },
    {
     "name": "stderr",
     "output_type": "stream",
     "text": [
      "/Users/changsheng/anaconda/lib/python3.6/site-packages/bs4/__init__.py:219: UserWarning: \"b'.'\" looks like a filename, not markup. You shouldprobably open this file and pass the filehandle intoBeautiful Soup.\n",
      "  'Beautiful Soup.' % markup)\n"
     ]
    },
    {
     "name": "stdout",
     "output_type": "stream",
     "text": [
      "confusion matrix:\n",
      "\n",
      "[[1845 1533]\n",
      " [1635 5872]]\n",
      "\n",
      "\n",
      "binary f1: 0.787553648069\n",
      "\n",
      "rmse: 0.4786\n",
      "\n"
     ]
    }
   ],
   "source": [
    "%run ../src/models/concise_train.py --x_train ../data/train/data_train.csv.gz --y_train ../data/train/conciseness_train.labels --pp False --model nb --feat tf --results ../results/concise_1.txt\n",
    "\n"
   ]
  },
  {
   "cell_type": "markdown",
   "metadata": {},
   "source": [
    "# Experiment 2 \n",
    "Using term frequency on product description with only removing html tags and standard preprocess"
   ]
  },
  {
   "cell_type": "code",
   "execution_count": 20,
   "metadata": {
    "collapsed": false
   },
   "outputs": [
    {
     "name": "stdout",
     "output_type": "stream",
     "text": [
      "x_train ../data/train/data_train.csv.gz\n",
      "y_train ../data/train/conciseness_train.labels\n",
      "pp True\n",
      "model nb\n",
      "feat tf\n",
      "results ../results/concise_2.txt\n"
     ]
    },
    {
     "name": "stderr",
     "output_type": "stream",
     "text": [
      "/Users/changsheng/anaconda/lib/python3.6/site-packages/bs4/__init__.py:219: UserWarning: \"b'.'\" looks like a filename, not markup. You shouldprobably open this file and pass the filehandle intoBeautiful Soup.\n",
      "  'Beautiful Soup.' % markup)\n"
     ]
    },
    {
     "name": "stdout",
     "output_type": "stream",
     "text": [
      "confusion matrix:\n",
      "\n",
      "[[1828 1612]\n",
      " [1555 5890]]\n",
      "\n",
      "\n",
      "binary f1: 0.788118016993\n",
      "\n",
      "rmse: 0.4762\n",
      "\n"
     ]
    }
   ],
   "source": [
    "%run ../src/models/concise_train.py --x_train ../data/train/data_train.csv.gz --y_train ../data/train/conciseness_train.labels --pp True --model nb --feat tf --results ../results/concise_2.txt\n"
   ]
  },
  {
   "cell_type": "code",
   "execution_count": 21,
   "metadata": {
    "collapsed": false
   },
   "outputs": [
    {
     "name": "stdout",
     "output_type": "stream",
     "text": [
      "x_train ../data/train/data_train.csv.gz\n",
      "y_train ../data/train/conciseness_train.labels\n",
      "pp True\n",
      "model nb\n",
      "feat tf\n",
      "results ../results/clarity_1.txt\n"
     ]
    },
    {
     "name": "stderr",
     "output_type": "stream",
     "text": [
      "/Users/changsheng/anaconda/lib/python3.6/site-packages/bs4/__init__.py:219: UserWarning: \"b'.'\" looks like a filename, not markup. You shouldprobably open this file and pass the filehandle intoBeautiful Soup.\n",
      "  'Beautiful Soup.' % markup)\n"
     ]
    },
    {
     "name": "stdout",
     "output_type": "stream",
     "text": [
      "confusion matrix:\n",
      "\n",
      "[[1879 1611]\n",
      " [1551 5844]]\n",
      "\n",
      "\n",
      "binary f1: 0.787070707071\n",
      "\n",
      "rmse: 0.4771\n",
      "\n"
     ]
    }
   ],
   "source": [
    "# Experiment 3\n",
    "# preprocess: lower case, lemmatize, remove numbers\n",
    "\n",
    "%run ../src/models/concise_train.py --x_train ../data/train/data_train.csv.gz --y_train ../data/train/conciseness_train.labels --pp True --model nb --feat tf --results ../results/clarity_1.txt\n"
   ]
  },
  {
   "cell_type": "markdown",
   "metadata": {},
   "source": [
    "# Experiment 4"
   ]
  },
  {
   "cell_type": "code",
   "execution_count": 23,
   "metadata": {
    "collapsed": false
   },
   "outputs": [
    {
     "name": "stdout",
     "output_type": "stream",
     "text": [
      "x_train ../data/train/data_train.csv.gz\n",
      "y_train ../data/train/conciseness_train.labels\n",
      "x_test ../data/validate/data_valid.csv.gz\n",
      "pp True\n",
      "model nb\n",
      "feat tfidf\n",
      "results ../results/concise_4.txt\n"
     ]
    },
    {
     "name": "stderr",
     "output_type": "stream",
     "text": [
      "/Users/changsheng/anaconda/lib/python3.6/site-packages/bs4/__init__.py:219: UserWarning: \"b'.'\" looks like a filename, not markup. You shouldprobably open this file and pass the filehandle intoBeautiful Soup.\n",
      "  'Beautiful Soup.' % markup)\n"
     ]
    },
    {
     "name": "stdout",
     "output_type": "stream",
     "text": [
      "confusion matrix:\n",
      "\n",
      "[[1003 2481]\n",
      " [ 470 6931]]\n",
      "\n",
      "\n",
      "binary f1: 0.824481056325\n",
      "\n",
      "rmse: 0.4300\n",
      "\n"
     ]
    },
    {
     "name": "stderr",
     "output_type": "stream",
     "text": [
      "/Users/changsheng/anaconda/lib/python3.6/site-packages/bs4/__init__.py:219: UserWarning: \"b'.'\" looks like a filename, not markup. You shouldprobably open this file and pass the filehandle intoBeautiful Soup.\n",
      "  'Beautiful Soup.' % markup)\n"
     ]
    }
   ],
   "source": [
    "%run ../src/models/concise_train.py --x_train ../data/train/data_train.csv.gz --x_test ../data/validate/data_valid.csv.gz --y_train ../data/train/conciseness_train.labels --pp False --model nb --feat tfidf --results ../results/concise_4.txt\n",
    "\n"
   ]
  },
  {
   "cell_type": "code",
   "execution_count": 28,
   "metadata": {
    "collapsed": false
   },
   "outputs": [
    {
     "name": "stdout",
     "output_type": "stream",
     "text": [
      "x_train ../data/train/data_train.csv.gz\n",
      "y_train ../data/train/conciseness_train.labels\n",
      "x_test ../data/validate/data_valid.csv.gz\n",
      "pp True\n",
      "model nb\n",
      "feat tfidf\n",
      "results ../results/concise_5.txt\n"
     ]
    },
    {
     "name": "stderr",
     "output_type": "stream",
     "text": [
      "/Users/changsheng/anaconda/lib/python3.6/site-packages/bs4/__init__.py:219: UserWarning: \"b'.'\" looks like a filename, not markup. You shouldprobably open this file and pass the filehandle intoBeautiful Soup.\n",
      "  'Beautiful Soup.' % markup)\n"
     ]
    },
    {
     "name": "stdout",
     "output_type": "stream",
     "text": [
      "confusion matrix:\n",
      "\n",
      "[[ 984 2483]\n",
      " [ 467 6951]]\n",
      "\n",
      "\n",
      "binary f1: 0.824946593876\n",
      "\n",
      "rmse: 0.4310\n",
      "\n"
     ]
    },
    {
     "name": "stderr",
     "output_type": "stream",
     "text": [
      "/Users/changsheng/anaconda/lib/python3.6/site-packages/bs4/__init__.py:219: UserWarning: \"b'.'\" looks like a filename, not markup. You shouldprobably open this file and pass the filehandle intoBeautiful Soup.\n",
      "  'Beautiful Soup.' % markup)\n"
     ]
    }
   ],
   "source": [
    "%run ../src/models/concise_train.py --x_train ../data/train/data_train.csv.gz --x_test ../data/validate/data_valid.csv.gz --y_train ../data/train/conciseness_train.labels --pp False --model nb --feat tfidf --results ../results/concise_5.txt\n",
    "\n",
    "\n",
    "\n"
   ]
  },
  {
   "cell_type": "code",
   "execution_count": 31,
   "metadata": {
    "collapsed": false
   },
   "outputs": [
    {
     "name": "stdout",
     "output_type": "stream",
     "text": [
      "x_train ../data/train/data_train.csv.gz\n",
      "y_train ../data/train/conciseness_train.labels\n",
      "x_test ../data/validate/data_valid.csv.gz\n",
      "pp True\n",
      "model nb\n",
      "feat tfidf\n",
      "results ../results/concise_6.txt\n"
     ]
    },
    {
     "name": "stderr",
     "output_type": "stream",
     "text": [
      "/Users/changsheng/anaconda/lib/python3.6/site-packages/bs4/__init__.py:219: UserWarning: \"b'.'\" looks like a filename, not markup. You shouldprobably open this file and pass the filehandle intoBeautiful Soup.\n",
      "  'Beautiful Soup.' % markup)\n"
     ]
    },
    {
     "name": "stdout",
     "output_type": "stream",
     "text": [
      "confusion matrix:\n",
      "\n",
      "[[1007 2432]\n",
      " [ 508 6938]]\n",
      "\n",
      "\n",
      "binary f1: 0.825166508088\n",
      "\n",
      "rmse: 0.4295\n",
      "\n"
     ]
    },
    {
     "name": "stderr",
     "output_type": "stream",
     "text": [
      "/Users/changsheng/anaconda/lib/python3.6/site-packages/bs4/__init__.py:219: UserWarning: \"b'.'\" looks like a filename, not markup. You shouldprobably open this file and pass the filehandle intoBeautiful Soup.\n",
      "  'Beautiful Soup.' % markup)\n"
     ]
    }
   ],
   "source": [
    "%run ../src/models/concise_train.py --x_train ../data/train/data_train.csv.gz --x_test ../data/validate/data_valid.csv.gz --y_train ../data/train/conciseness_train.labels --pp False --model nb --feat tfidf --results ../results/concise_6.txt\n",
    "\n"
   ]
  },
  {
   "cell_type": "code",
   "execution_count": 32,
   "metadata": {
    "collapsed": false
   },
   "outputs": [
    {
     "name": "stdout",
     "output_type": "stream",
     "text": [
      "x_train ../data/train/data_train.csv.gz\n",
      "y_train ../data/train/conciseness_train.labels\n",
      "x_test ../data/validate/data_valid.csv.gz\n",
      "pp True\n",
      "model lr\n",
      "feat tfidf\n",
      "results ../results/concise_6.txt\n"
     ]
    },
    {
     "name": "stderr",
     "output_type": "stream",
     "text": [
      "/Users/changsheng/anaconda/lib/python3.6/site-packages/bs4/__init__.py:219: UserWarning: \"b'.'\" looks like a filename, not markup. You shouldprobably open this file and pass the filehandle intoBeautiful Soup.\n",
      "  'Beautiful Soup.' % markup)\n"
     ]
    },
    {
     "name": "stdout",
     "output_type": "stream",
     "text": [
      "confusion matrix:\n",
      "\n",
      "[[1170 2278]\n",
      " [ 688 6749]]\n",
      "\n",
      "\n",
      "binary f1: 0.819849368319\n",
      "\n",
      "rmse: 0.4241\n",
      "\n"
     ]
    },
    {
     "name": "stderr",
     "output_type": "stream",
     "text": [
      "/Users/changsheng/anaconda/lib/python3.6/site-packages/bs4/__init__.py:219: UserWarning: \"b'.'\" looks like a filename, not markup. You shouldprobably open this file and pass the filehandle intoBeautiful Soup.\n",
      "  'Beautiful Soup.' % markup)\n"
     ]
    }
   ],
   "source": [
    "%run ../src/models/concise_train.py --x_train ../data/train/data_train.csv.gz --x_test ../data/validate/data_valid.csv.gz --y_train ../data/train/conciseness_train.labels --pp False --model lr --feat tfidf --results ../results/concise_6.txt\n",
    "\n",
    "\n"
   ]
  },
  {
   "cell_type": "code",
   "execution_count": 35,
   "metadata": {
    "collapsed": false
   },
   "outputs": [
    {
     "name": "stdout",
     "output_type": "stream",
     "text": [
      "x_train ../data/train/data_train.csv.gz\n",
      "y_train ../data/train/conciseness_train.labels\n",
      "x_test ../data/validate/data_valid.csv.gz\n",
      "pp True\n",
      "model lr\n",
      "feat tfidf\n",
      "results ../results/concise_7.txt\n"
     ]
    },
    {
     "name": "stderr",
     "output_type": "stream",
     "text": [
      "/Users/changsheng/anaconda/lib/python3.6/site-packages/bs4/__init__.py:219: UserWarning: \"b'.'\" looks like a filename, not markup. You shouldprobably open this file and pass the filehandle intoBeautiful Soup.\n",
      "  'Beautiful Soup.' % markup)\n",
      "/Users/changsheng/anaconda/lib/python3.6/site-packages/bs4/__init__.py:219: UserWarning: \"b'//'\" looks like a filename, not markup. You shouldprobably open this file and pass the filehandle intoBeautiful Soup.\n",
      "  'Beautiful Soup.' % markup)\n"
     ]
    },
    {
     "name": "stdout",
     "output_type": "stream",
     "text": [
      "confusion matrix:\n",
      "\n",
      "[[1197 2137]\n",
      " [ 715 6836]]\n",
      "\n",
      "\n",
      "binary f1: 0.827402565965\n",
      "\n",
      "rmse: 0.4200\n",
      "\n"
     ]
    },
    {
     "name": "stderr",
     "output_type": "stream",
     "text": [
      "/Users/changsheng/anaconda/lib/python3.6/site-packages/bs4/__init__.py:219: UserWarning: \"b'.'\" looks like a filename, not markup. You shouldprobably open this file and pass the filehandle intoBeautiful Soup.\n",
      "  'Beautiful Soup.' % markup)\n"
     ]
    }
   ],
   "source": [
    "%run ../src/models/concise_train.py --x_train ../data/train/data_train.csv.gz --x_test ../data/validate/data_valid.csv.gz --y_train ../data/train/conciseness_train.labels --pp False --model lr --feat tf --results ../results/concise_7.txt\n"
   ]
  },
  {
   "cell_type": "code",
   "execution_count": null,
   "metadata": {
    "collapsed": false
   },
   "outputs": [
    {
     "name": "stdout",
     "output_type": "stream",
     "text": [
      "x_train ../data/train/data_train.csv.gz\n",
      "y_train ../data/train/conciseness_train.labels\n",
      "x_test ../data/validate/data_valid.csv.gz\n",
      "pp True\n",
      "model lr\n",
      "feat tf\n",
      "results ../results/concise_8.txt\n",
      "confusion matrix:\n",
      "\n",
      "[[1924 1499]\n",
      " [ 861 6601]]\n",
      "\n",
      "\n",
      "binary f1: 0.848348541319\n",
      "\n",
      "rmse: 0.3943\n",
      "\n"
     ]
    }
   ],
   "source": [
    "%run ../src/models/concise_train.py --x_train ../data/train/data_train.csv.gz --x_test ../data/validate/data_valid.csv.gz --y_train ../data/train/conciseness_train.labels --pp False --model lr --feat tf --results ../results/concise_8.txt\n",
    "\n"
   ]
  },
  {
   "cell_type": "code",
   "execution_count": null,
   "metadata": {
    "collapsed": true
   },
   "outputs": [],
   "source": []
  }
 ],
 "metadata": {
  "kernelspec": {
   "display_name": "Python 3",
   "language": "python",
   "name": "python3"
  },
  "language_info": {
   "codemirror_mode": {
    "name": "ipython",
    "version": 3
   },
   "file_extension": ".py",
   "mimetype": "text/x-python",
   "name": "python",
   "nbconvert_exporter": "python",
   "pygments_lexer": "ipython3",
   "version": "3.6.1"
  }
 },
 "nbformat": 4,
 "nbformat_minor": 2
}
